{
 "cells": [
  {
   "cell_type": "markdown",
   "metadata": {},
   "source": [
    "## Deliverable 3. Create a Travel Itinerary Map."
   ]
  },
  {
   "cell_type": "code",
   "execution_count": 47,
   "metadata": {},
   "outputs": [],
   "source": [
    "# Dependencies and Setup\n",
    "import pandas as pd\n",
    "import requests\n",
    "import gmaps\n",
    "\n",
    "# Import API key\n",
    "from config import g_key\n",
    "\n",
    "# Configure gmaps\n",
    "gmaps.configure(api_key=g_key)"
   ]
  },
  {
   "cell_type": "code",
   "execution_count": 48,
   "metadata": {},
   "outputs": [
    {
     "data": {
      "text/html": [
       "<div>\n",
       "<style scoped>\n",
       "    .dataframe tbody tr th:only-of-type {\n",
       "        vertical-align: middle;\n",
       "    }\n",
       "\n",
       "    .dataframe tbody tr th {\n",
       "        vertical-align: top;\n",
       "    }\n",
       "\n",
       "    .dataframe thead th {\n",
       "        text-align: right;\n",
       "    }\n",
       "</style>\n",
       "<table border=\"1\" class=\"dataframe\">\n",
       "  <thead>\n",
       "    <tr style=\"text-align: right;\">\n",
       "      <th></th>\n",
       "      <th>City_ID</th>\n",
       "      <th>City</th>\n",
       "      <th>Country</th>\n",
       "      <th>Max Temp</th>\n",
       "      <th>Current Description</th>\n",
       "      <th>Lat</th>\n",
       "      <th>Lng</th>\n",
       "      <th>Hotel Name</th>\n",
       "    </tr>\n",
       "  </thead>\n",
       "  <tbody>\n",
       "    <tr>\n",
       "      <th>0</th>\n",
       "      <td>1</td>\n",
       "      <td>Eyl</td>\n",
       "      <td>SO</td>\n",
       "      <td>75.09</td>\n",
       "      <td>overcast clouds</td>\n",
       "      <td>7.9803</td>\n",
       "      <td>49.8164</td>\n",
       "      <td>Amiin Hotel</td>\n",
       "    </tr>\n",
       "    <tr>\n",
       "      <th>1</th>\n",
       "      <td>2</td>\n",
       "      <td>Kruisfontein</td>\n",
       "      <td>ZA</td>\n",
       "      <td>75.88</td>\n",
       "      <td>overcast clouds</td>\n",
       "      <td>-34.0033</td>\n",
       "      <td>24.7314</td>\n",
       "      <td>Oyster Bay House Rental</td>\n",
       "    </tr>\n",
       "    <tr>\n",
       "      <th>2</th>\n",
       "      <td>11</td>\n",
       "      <td>Itarema</td>\n",
       "      <td>BR</td>\n",
       "      <td>84.34</td>\n",
       "      <td>overcast clouds</td>\n",
       "      <td>-2.9248</td>\n",
       "      <td>-39.9167</td>\n",
       "      <td>Sea Lounge! Bar, Club &amp; Restaurant</td>\n",
       "    </tr>\n",
       "    <tr>\n",
       "      <th>3</th>\n",
       "      <td>13</td>\n",
       "      <td>Mapiripan</td>\n",
       "      <td>CO</td>\n",
       "      <td>89.65</td>\n",
       "      <td>overcast clouds</td>\n",
       "      <td>2.8892</td>\n",
       "      <td>-72.1256</td>\n",
       "      <td>Monserrate</td>\n",
       "    </tr>\n",
       "    <tr>\n",
       "      <th>4</th>\n",
       "      <td>14</td>\n",
       "      <td>Cidreira</td>\n",
       "      <td>BR</td>\n",
       "      <td>81.25</td>\n",
       "      <td>clear sky</td>\n",
       "      <td>-30.1811</td>\n",
       "      <td>-50.2056</td>\n",
       "      <td>Hotel Castelo</td>\n",
       "    </tr>\n",
       "  </tbody>\n",
       "</table>\n",
       "</div>"
      ],
      "text/plain": [
       "   City_ID          City Country  Max Temp Current Description      Lat  \\\n",
       "0        1           Eyl      SO     75.09     overcast clouds   7.9803   \n",
       "1        2  Kruisfontein      ZA     75.88     overcast clouds -34.0033   \n",
       "2       11       Itarema      BR     84.34     overcast clouds  -2.9248   \n",
       "3       13     Mapiripan      CO     89.65     overcast clouds   2.8892   \n",
       "4       14      Cidreira      BR     81.25           clear sky -30.1811   \n",
       "\n",
       "       Lng                          Hotel Name  \n",
       "0  49.8164                         Amiin Hotel  \n",
       "1  24.7314             Oyster Bay House Rental  \n",
       "2 -39.9167  Sea Lounge! Bar, Club & Restaurant  \n",
       "3 -72.1256                          Monserrate  \n",
       "4 -50.2056                       Hotel Castelo  "
      ]
     },
     "execution_count": 48,
     "metadata": {},
     "output_type": "execute_result"
    }
   ],
   "source": [
    "# 1. Read the WeatherPy_vacation.csv into a DataFrame.\n",
    "vacation_df = pd.read_csv(\"WeatherPy_vacation.csv\")\n",
    "vacation_df.head()"
   ]
  },
  {
   "cell_type": "code",
   "execution_count": 49,
   "metadata": {},
   "outputs": [],
   "source": [
    "# 2. Using the template add the city name, the country code, the weather description and maximum temperature for the city.\n",
    "info_box_template = \"\"\"\n",
    "<dl>\n",
    "<dt>Hotel Name</dt><dd>{Hotel Name}</dd>\n",
    "<dt>City</dt><dd>{City}</dd>\n",
    "<dt>Country</dt><dd>{Country}</dd>\n",
    "<dt>Max Temp</dt><dd>{Max Temp} °F</dd>\n",
    "\"\"\"\n",
    "\n",
    "# 3a. Get the data from each row and add it to the formatting template and store the data in a list.\n",
    "hotel_info = [info_box_template.format(**row) for index, row in vacation_df.iterrows()]\n",
    "\n",
    "# 3b. Get the latitude and longitude from each row and store in a new DataFrame.\n",
    "locations = vacation_df[[\"Lat\", \"Lng\"]]"
   ]
  },
  {
   "cell_type": "code",
   "execution_count": 50,
   "metadata": {},
   "outputs": [
    {
     "data": {
      "application/vnd.jupyter.widget-view+json": {
       "model_id": "ec7301f430614af7b0ad03efdb58b7fb",
       "version_major": 2,
       "version_minor": 0
      },
      "text/plain": [
       "Figure(layout=FigureLayout(height='420px'))"
      ]
     },
     "metadata": {},
     "output_type": "display_data"
    }
   ],
   "source": [
    "# 4a. Add a marker layer for each city to the map.\n",
    "locations = vacation_df[[\"Lat\", \"Lng\"]]\n",
    "max_temp = vacation_df[\"Max Temp\"]\n",
    "fig = gmaps.figure(center=(30.0, 31.0), zoom_level=1.5)\n",
    "heat_layer = gmaps.heatmap_layer(locations, weights=max_temp,\n",
    "             dissipating=False, max_intensity=300, point_radius=4)\n",
    "marker_layer = gmaps.marker_layer(locations, info_box_content=hotel_info)\n",
    "fig.add_layer(heat_layer)\n",
    "fig.add_layer(marker_layer)\n",
    "# 4b. Display the figure\n",
    "fig\n"
   ]
  },
  {
   "cell_type": "code",
   "execution_count": 51,
   "metadata": {},
   "outputs": [],
   "source": [
    "# From the map above pick 4 cities and create a vacation itinerary route to travel between the four cities. \n",
    "# 5. Create DataFrames for each city by filtering the 'vacation_df' using the loc method. \n",
    "# Hint: The starting and ending city should be the same city.\n",
    "\n",
    "vacation_start = vacation_df.loc[vacation_df[\"City\"] == \"Djenne\"]\n",
    "vacation_end = vacation_df.loc[vacation_df[\"City\"] == \"Djenne\"]\n",
    "vacation_stop1 = vacation_df.loc[vacation_df[\"City\"] == \"Yaan\"]\n",
    "vacation_stop2 = vacation_df.loc[vacation_df[\"City\"] == \"Harper\"]\n",
    "vacation_stop3 = vacation_df.loc[vacation_df[\"City\"] == \"Soroti\"]"
   ]
  },
  {
   "cell_type": "code",
   "execution_count": 52,
   "metadata": {},
   "outputs": [],
   "source": [
    "# 6. Get the latitude-longitude pairs as tuples from each city DataFrame using the to_numpy function and list indexing.\n",
    "start = vacation_start[\"Lat\"].to_numpy()[0], vacation_start[\"Lng\"].to_numpy()[0]\n",
    "end = vacation_start[\"Lat\"].to_numpy()[0], vacation_start[\"Lng\"].to_numpy()[0]\n",
    "stop1 = vacation_stop1[\"Lat\"].to_numpy()[0], vacation_stop1[\"Lng\"].to_numpy()[0]\n",
    "stop2 = vacation_stop2[\"Lat\"].to_numpy()[0], vacation_stop2[\"Lng\"].to_numpy()[0]\n",
    "stop3 = vacation_stop3[\"Lat\"].to_numpy()[0], vacation_stop3[\"Lng\"].to_numpy()[0]"
   ]
  },
  {
   "cell_type": "code",
   "execution_count": 53,
   "metadata": {
    "scrolled": true
   },
   "outputs": [
    {
     "data": {
      "application/vnd.jupyter.widget-view+json": {
       "model_id": "82ee356fac494f129cdcbd6e36715b4e",
       "version_major": 2,
       "version_minor": 0
      },
      "text/plain": [
       "Figure(layout=FigureLayout(height='420px'))"
      ]
     },
     "metadata": {},
     "output_type": "display_data"
    }
   ],
   "source": [
    "# 7. Create a direction layer map using the start and end latitude-longitude pairs,\n",
    "# and stop1, stop2, and stop3 as the waypoints. The travel_mode should be \"DRIVING\", \"BICYCLING\", or \"WALKING\".\n",
    "fig = gmaps.figure()\n",
    "city_itinerary = gmaps.directions_layer(\n",
    "        start, end, waypoints=[stop1, stop2, stop3],\n",
    "        travel_mode='DRIVING')\n",
    "\n",
    "fig.add_layer(city_itinerary)\n",
    "fig\n"
   ]
  },
  {
   "cell_type": "code",
   "execution_count": 54,
   "metadata": {},
   "outputs": [
    {
     "data": {
      "text/html": [
       "<div>\n",
       "<style scoped>\n",
       "    .dataframe tbody tr th:only-of-type {\n",
       "        vertical-align: middle;\n",
       "    }\n",
       "\n",
       "    .dataframe tbody tr th {\n",
       "        vertical-align: top;\n",
       "    }\n",
       "\n",
       "    .dataframe thead th {\n",
       "        text-align: right;\n",
       "    }\n",
       "</style>\n",
       "<table border=\"1\" class=\"dataframe\">\n",
       "  <thead>\n",
       "    <tr style=\"text-align: right;\">\n",
       "      <th></th>\n",
       "      <th>City_ID</th>\n",
       "      <th>City</th>\n",
       "      <th>Country</th>\n",
       "      <th>Max Temp</th>\n",
       "      <th>Current Description</th>\n",
       "      <th>Lat</th>\n",
       "      <th>Lng</th>\n",
       "      <th>Hotel Name</th>\n",
       "    </tr>\n",
       "  </thead>\n",
       "  <tbody>\n",
       "    <tr>\n",
       "      <th>0</th>\n",
       "      <td>350</td>\n",
       "      <td>Djenne</td>\n",
       "      <td>ML</td>\n",
       "      <td>80.69</td>\n",
       "      <td>clear sky</td>\n",
       "      <td>13.9061</td>\n",
       "      <td>-4.5533</td>\n",
       "      <td>Hôtel Chez Baba</td>\n",
       "    </tr>\n",
       "    <tr>\n",
       "      <th>1</th>\n",
       "      <td>229</td>\n",
       "      <td>Yaan</td>\n",
       "      <td>NG</td>\n",
       "      <td>86.07</td>\n",
       "      <td>clear sky</td>\n",
       "      <td>7.3833</td>\n",
       "      <td>8.5667</td>\n",
       "      <td>NaN</td>\n",
       "    </tr>\n",
       "    <tr>\n",
       "      <th>2</th>\n",
       "      <td>328</td>\n",
       "      <td>Harper</td>\n",
       "      <td>LR</td>\n",
       "      <td>80.11</td>\n",
       "      <td>overcast clouds</td>\n",
       "      <td>4.3750</td>\n",
       "      <td>-7.7169</td>\n",
       "      <td>Screensaver</td>\n",
       "    </tr>\n",
       "    <tr>\n",
       "      <th>3</th>\n",
       "      <td>586</td>\n",
       "      <td>Soroti</td>\n",
       "      <td>UG</td>\n",
       "      <td>75.83</td>\n",
       "      <td>broken clouds</td>\n",
       "      <td>1.7146</td>\n",
       "      <td>33.6111</td>\n",
       "      <td>Strikers Hotel</td>\n",
       "    </tr>\n",
       "    <tr>\n",
       "      <th>4</th>\n",
       "      <td>350</td>\n",
       "      <td>Djenne</td>\n",
       "      <td>ML</td>\n",
       "      <td>80.69</td>\n",
       "      <td>clear sky</td>\n",
       "      <td>13.9061</td>\n",
       "      <td>-4.5533</td>\n",
       "      <td>Hôtel Chez Baba</td>\n",
       "    </tr>\n",
       "  </tbody>\n",
       "</table>\n",
       "</div>"
      ],
      "text/plain": [
       "   City_ID    City Country  Max Temp Current Description      Lat      Lng  \\\n",
       "0      350  Djenne      ML     80.69           clear sky  13.9061  -4.5533   \n",
       "1      229    Yaan      NG     86.07           clear sky   7.3833   8.5667   \n",
       "2      328  Harper      LR     80.11     overcast clouds   4.3750  -7.7169   \n",
       "3      586  Soroti      UG     75.83       broken clouds   1.7146  33.6111   \n",
       "4      350  Djenne      ML     80.69           clear sky  13.9061  -4.5533   \n",
       "\n",
       "        Hotel Name  \n",
       "0  Hôtel Chez Baba  \n",
       "1              NaN  \n",
       "2      Screensaver  \n",
       "3   Strikers Hotel  \n",
       "4  Hôtel Chez Baba  "
      ]
     },
     "execution_count": 54,
     "metadata": {},
     "output_type": "execute_result"
    }
   ],
   "source": [
    "# 8. To create a marker layer map between the four cities.\n",
    "#  Combine the four city DataFrames into one DataFrame using the concat() function.\n",
    "itinerary_df = pd.concat([vacation_start, vacation_stop1, vacation_stop2, vacation_stop3, vacation_end], ignore_index=True)\n",
    "itinerary_df\n"
   ]
  },
  {
   "cell_type": "code",
   "execution_count": 55,
   "metadata": {},
   "outputs": [],
   "source": [
    "# 9 Using the template add city name, the country code, the weather description and maximum temperature for the city. \n",
    "info_box_template = \"\"\"\n",
    "<dl>\n",
    "<dt>Hotel Name</dt><dd>{Hotel Name}</dd>\n",
    "<dt>City</dt><dd>{City}</dd>\n",
    "<dt>Country</dt><dd>{Country}</dd>\n",
    "<dt>Current Description</dt><dd>{Current Description} </dd>\n",
    "</dl>\n",
    "\"\"\"\n",
    "\n",
    "# 10a Get the data from each row and add it to the formatting template and store the data in a list.\n",
    "hotel_info = [info_box_template.format(**row) for index, row in itinerary_df.iterrows()]\n",
    "\n",
    "# 10b. Get the latitude and longitude from each row and store in a new DataFrame.\n",
    "locations = itinerary_df[[\"Lat\", \"Lng\"]]"
   ]
  },
  {
   "cell_type": "code",
   "execution_count": 56,
   "metadata": {},
   "outputs": [
    {
     "data": {
      "application/vnd.jupyter.widget-view+json": {
       "model_id": "ddafcd137a2148a5a00e6b0205ac2366",
       "version_major": 2,
       "version_minor": 0
      },
      "text/plain": [
       "Figure(layout=FigureLayout(height='420px'))"
      ]
     },
     "metadata": {},
     "output_type": "display_data"
    }
   ],
   "source": [
    "# 11a. Add a marker layer for each city to the map.\n",
    "\n",
    "locations = itinerary_df[[\"Lat\", \"Lng\"]]\n",
    "\n",
    "fig = gmaps.figure()\n",
    "\n",
    "marker_layer = gmaps.marker_layer(locations, info_box_content=hotel_info)\n",
    "\n",
    "fig.add_layer(marker_layer)\n",
    "\n",
    "\n",
    "\n",
    "# 11b. Display the figure\n",
    "fig\n"
   ]
  },
  {
   "cell_type": "code",
   "execution_count": null,
   "metadata": {},
   "outputs": [],
   "source": []
  }
 ],
 "metadata": {
  "kernelspec": {
   "display_name": "PythonData",
   "language": "python",
   "name": "pythondata"
  },
  "language_info": {
   "codemirror_mode": {
    "name": "ipython",
    "version": 3
   },
   "file_extension": ".py",
   "mimetype": "text/x-python",
   "name": "python",
   "nbconvert_exporter": "python",
   "pygments_lexer": "ipython3",
   "version": "3.9.7"
  },
  "latex_envs": {
   "LaTeX_envs_menu_present": true,
   "autoclose": false,
   "autocomplete": true,
   "bibliofile": "biblio.bib",
   "cite_by": "apalike",
   "current_citInitial": 1,
   "eqLabelWithNumbers": true,
   "eqNumInitial": 1,
   "hotkeys": {
    "equation": "Ctrl-E",
    "itemize": "Ctrl-I"
   },
   "labels_anchors": false,
   "latex_user_defs": false,
   "report_style_numbering": false,
   "user_envs_cfg": false
  }
 },
 "nbformat": 4,
 "nbformat_minor": 2
}
